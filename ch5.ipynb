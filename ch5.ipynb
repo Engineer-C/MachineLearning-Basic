{
 "cells": [
  {
   "cell_type": "code",
   "execution_count": 52,
   "metadata": {
    "collapsed": true
   },
   "outputs": [],
   "source": [
    "# 환경 설정\n",
    "import numpy as np\n",
    "import pandas as pd\n",
    "\n",
    "from mlwpy import *\n",
    "diabetes = datasets.load_diabetes()\n",
    "%matplotlib inline"
   ]
  },
  {
   "cell_type": "code",
   "execution_count": 53,
   "outputs": [
    {
     "data": {
      "text/plain": "                       0                    1                    2  \\\nftr              -5.7895               7.8947               3.6842   \ntgt              65.4983             120.3937              23.8794   \n\n                       3                    4                    5  \\\nftr               8.9474             -10.0000               1.5789   \ntgt             156.0323             198.1169               1.4690   \n\n                       6                    7                    8  \\\nftr               5.7895              -7.8947              -1.5789   \ntgt              64.8063             121.0167               1.3477   \n\n                       9  \nftr              -0.5263  \ntgt              -1.4789  ",
      "text/html": "<div>\n<style scoped>\n    .dataframe tbody tr th:only-of-type {\n        vertical-align: middle;\n    }\n\n    .dataframe tbody tr th {\n        vertical-align: top;\n    }\n\n    .dataframe thead th {\n        text-align: right;\n    }\n</style>\n<table border=\"1\" class=\"dataframe\">\n  <thead>\n    <tr style=\"text-align: right;\">\n      <th></th>\n      <th>0</th>\n      <th>1</th>\n      <th>2</th>\n      <th>3</th>\n      <th>4</th>\n      <th>5</th>\n      <th>6</th>\n      <th>7</th>\n      <th>8</th>\n      <th>9</th>\n    </tr>\n  </thead>\n  <tbody>\n    <tr>\n      <th>ftr</th>\n      <td>-5.7895</td>\n      <td>7.8947</td>\n      <td>3.6842</td>\n      <td>8.9474</td>\n      <td>-10.0000</td>\n      <td>1.5789</td>\n      <td>5.7895</td>\n      <td>-7.8947</td>\n      <td>-1.5789</td>\n      <td>-0.5263</td>\n    </tr>\n    <tr>\n      <th>tgt</th>\n      <td>65.4983</td>\n      <td>120.3937</td>\n      <td>23.8794</td>\n      <td>156.0323</td>\n      <td>198.1169</td>\n      <td>1.4690</td>\n      <td>64.8063</td>\n      <td>121.0167</td>\n      <td>1.3477</td>\n      <td>-1.4789</td>\n    </tr>\n  </tbody>\n</table>\n</div>",
      "text/latex": "{\\centering\n\\begin{tabular}{lrrrrrrrrrr}\n\\toprule\n{} &                    0 &                    1 &                    2 &                    3 &                    4 &                    5 &                    6 &                    7 &                    8 &                    9 \\\\\n\\midrule\nftr &              -5.7895 &               7.8947 &               3.6842 &               8.9474 &             -10.0000 &               1.5789 &               5.7895 &              -7.8947 &              -1.5789 &              -0.5263 \\\\\ntgt &              65.4983 &             120.3937 &              23.8794 &             156.0323 &             198.1169 &               1.4690 &              64.8063 &             121.0167 &               1.3477 &              -1.4789 \\\\\n\\bottomrule\n\\end{tabular}\n\n\\medskip}"
     },
     "metadata": {},
     "output_type": "display_data"
    }
   ],
   "source": [
    "N = 20\n",
    "ftr = np.linspace(-10, 10, num=N) # 특성 값\n",
    "tgt = 2*ftr**2 - 3 + np.random.uniform(-2, 2, N) # 타깃 = 모델(특성)\n",
    "\n",
    "(train_ftr, test_ftr,\n",
    " train_tgt, test_tgt) = skms.train_test_split(ftr, tgt, test_size=N//2)\n",
    "\n",
    "display(pd.DataFrame({\"ftr\":train_ftr,\n",
    "                      \"tgt\":train_tgt}).T)"
   ],
   "metadata": {
    "collapsed": false,
    "pycharm": {
     "name": "#%%\n"
    }
   }
  },
  {
   "cell_type": "code",
   "execution_count": 54,
   "outputs": [
    {
     "data": {
      "text/plain": "[<matplotlib.lines.Line2D at 0x19c35369908>]"
     },
     "execution_count": 54,
     "metadata": {},
     "output_type": "execute_result"
    },
    {
     "data": {
      "text/plain": "<Figure size 432x288 with 1 Axes>",
      "image/png": "[encoded data removed]"
     },
     "metadata": {
      "needs_background": "light"
     },
     "output_type": "display_data"
    }
   ],
   "source": [
    "plt.plot(train_ftr, train_tgt, 'bo')\n",
    "plt.plot(test_ftr, np.zeros_like(test_ftr), 'r+')"
   ],
   "metadata": {
    "collapsed": false,
    "pycharm": {
     "name": "#%%\n"
    }
   }
  },
  {
   "cell_type": "code",
   "execution_count": 55,
   "outputs": [
    {
     "data": {
      "text/plain": "array([81.7287, 70.9926, 87.0968])"
     },
     "execution_count": 55,
     "metadata": {},
     "output_type": "execute_result"
    }
   ],
   "source": [
    "# 노트 : sklearn은 2차원 입력(테이블)을 정말 좋아합니다.\n",
    "# 따라서 데이터의 형태를 재구성(reshape)합니다.\n",
    "sk_model = linear_model.LinearRegression()\n",
    "sk_model.fit(train_ftr.reshape(-1, 1), train_tgt)\n",
    "sk_preds = sk_model.predict(test_ftr.reshape(-1, 1))\n",
    "sk_preds[:3]"
   ],
   "metadata": {
    "collapsed": false,
    "pycharm": {
     "name": "#%%\n"
    }
   }
  },
  {
   "cell_type": "code",
   "execution_count": 56,
   "outputs": [
    {
     "name": "stdout",
     "output_type": "stream",
     "text": [
      "[81.7287 70.9926 87.0968]\n"
     ]
    }
   ],
   "source": [
    "# 1차 다항식(직선)을 적합-예측-평가합니다.\n",
    "model_one = np.poly1d(np.polyfit(train_ftr, train_tgt, 1))\n",
    "preds_one = model_one(test_ftr)\n",
    "print(preds_one[:3])"
   ],
   "metadata": {
    "collapsed": false,
    "pycharm": {
     "name": "#%%\n"
    }
   }
  },
  {
   "cell_type": "code",
   "execution_count": 57,
   "outputs": [
    {
     "name": "stdout",
     "output_type": "stream",
     "text": [
      "all close? True\n",
      "RMSE: 66.1592888393368\n"
     ]
    }
   ],
   "source": [
    "# 예측 값이 모두 일치하는지 확인합니다.\n",
    "print(\"all close?\", np.allclose(sk_preds, preds_one))\n",
    "\n",
    "# sklearn 을 이용해서 평가합니다.\n",
    "mse = metrics.mean_squared_error\n",
    "print(\"RMSE:\", np.sqrt(mse(test_tgt, preds_one)))"
   ],
   "metadata": {
    "collapsed": false,
    "pycharm": {
     "name": "#%%\n"
    }
   }
  },
  {
   "cell_type": "code",
   "execution_count": 58,
   "outputs": [
    {
     "name": "stdout",
     "output_type": "stream",
     "text": [
      "RMSE: 1.2980033944775242\n"
     ]
    }
   ],
   "source": [
    "# 2차 다항식(포물선)을 적합-예측-평가합니다.\n",
    "model_two = np.poly1d(np.polyfit(train_ftr, train_tgt, 2))\n",
    "preds_two = model_two(test_ftr)\n",
    "print(\"RMSE:\", np.sqrt(mse(test_tgt, preds_two)))"
   ],
   "metadata": {
    "collapsed": false,
    "pycharm": {
     "name": "#%%\n"
    }
   }
  },
  {
   "cell_type": "code",
   "execution_count": 59,
   "outputs": [
    {
     "name": "stdout",
     "output_type": "stream",
     "text": [
      "RMSE: 7.883461698261509\n"
     ]
    }
   ],
   "source": [
    "model_three = np.poly1d(np.polyfit(train_ftr, train_tgt, 9))\n",
    "preds_three = model_three(test_ftr)\n",
    "print(\"RMSE:\", np.sqrt(mse(test_tgt, preds_three)))"
   ],
   "metadata": {
    "collapsed": false,
    "pycharm": {
     "name": "#%%\n"
    }
   }
  },
  {
   "cell_type": "code",
   "execution_count": 60,
   "outputs": [
    {
     "data": {
      "text/plain": "<Figure size 432x216 with 2 Axes>",
      "image/png": "[encoded data removed]"
     },
     "metadata": {
      "needs_background": "light"
     },
     "output_type": "display_data"
    }
   ],
   "source": [
    "fig, axes = plt.subplots(1,2, figsize=(6,3), sharey=True)\n",
    "\n",
    "labels = ['line', 'parabola', 'nonic']\n",
    "models = [model_one, model_two, model_three]\n",
    "train = (train_ftr, train_tgt)\n",
    "test  = (test_ftr, test_tgt)\n",
    "\n",
    "for ax, (ftr, tgt) in zip(axes, [train, test]):\n",
    "    ax.plot(ftr, tgt, 'k+')\n",
    "    for m, lbl in zip(models, labels):\n",
    "        ftr = sorted(ftr)\n",
    "        ax.plot(ftr, m(ftr), '-', label=lbl)\n",
    "\n",
    "axes[1].set_ylim(-20, 200)\n",
    "axes[0].set_title(\"Train\")\n",
    "axes[1].set_title(\"Test\");\n",
    "axes[0].legend(loc='upper center');"
   ],
   "metadata": {
    "collapsed": false,
    "pycharm": {
     "name": "#%%\n"
    }
   }
  },
  {
   "cell_type": "code",
   "execution_count": 61,
   "outputs": [
    {
     "data": {
      "text/plain": "                    Train Error           Test Error\nComplexity                                          \n1                       66.5302              77.6744\n2                        0.7846              91.3799\n6                        0.5403              91.5435\n9                        0.0000              85.5358",
      "text/html": "<div>\n<style scoped>\n    .dataframe tbody tr th:only-of-type {\n        vertical-align: middle;\n    }\n\n    .dataframe tbody tr th {\n        vertical-align: top;\n    }\n\n    .dataframe thead th {\n        text-align: right;\n    }\n</style>\n<table border=\"1\" class=\"dataframe\">\n  <thead>\n    <tr style=\"text-align: right;\">\n      <th></th>\n      <th>Train Error</th>\n      <th>Test Error</th>\n    </tr>\n    <tr>\n      <th>Complexity</th>\n      <th></th>\n      <th></th>\n    </tr>\n  </thead>\n  <tbody>\n    <tr>\n      <th>1</th>\n      <td>66.5302</td>\n      <td>77.6744</td>\n    </tr>\n    <tr>\n      <th>2</th>\n      <td>0.7846</td>\n      <td>91.3799</td>\n    </tr>\n    <tr>\n      <th>6</th>\n      <td>0.5403</td>\n      <td>91.5435</td>\n    </tr>\n    <tr>\n      <th>9</th>\n      <td>0.0000</td>\n      <td>85.5358</td>\n    </tr>\n  </tbody>\n</table>\n</div>",
      "text/latex": "{\\centering\n\\begin{tabular}{lrr}\n\\toprule\n{} &          Train Error &           Test Error \\\\\nComplexity &                      &                      \\\\\n\\midrule\n1          &              66.5302 &              77.6744 \\\\\n2          &               0.7846 &              91.3799 \\\\\n6          &               0.5403 &              91.5435 \\\\\n9          &               0.0000 &              85.5358 \\\\\n\\bottomrule\n\\end{tabular}\n\n\\medskip}"
     },
     "execution_count": 61,
     "metadata": {},
     "output_type": "execute_result"
    }
   ],
   "source": [
    "results = []\n",
    "for complexity in [1, 2, 6, 9]:\n",
    "    model = np.poly1d(np.polyfit(train_ftr, train_tgt, complexity))\n",
    "    train_error = np.sqrt(mse(train_tgt, model(train_ftr)))\n",
    "    test_error = np.sqrt(mse(test_ftr, model(test_ftr)))\n",
    "    results.append((complexity, train_error, test_error))\n",
    "columns = [\"Complexity\", \"Train Error\", 'Test Error']\n",
    "results_df = pd.DataFrame.from_records(results,\n",
    "                                       columns=columns,\n",
    "                                       index=\"Complexity\")\n",
    "results_df"
   ],
   "metadata": {
    "collapsed": false,
    "pycharm": {
     "name": "#%%\n"
    }
   }
  },
  {
   "cell_type": "code",
   "execution_count": 62,
   "outputs": [
    {
     "data": {
      "text/plain": "<AxesSubplot:xlabel='Complexity'>"
     },
     "execution_count": 62,
     "metadata": {},
     "output_type": "execute_result"
    },
    {
     "data": {
      "text/plain": "<Figure size 432x288 with 1 Axes>",
      "image/png": "[encoded data removed]"
     },
     "metadata": {
      "needs_background": "light"
     },
     "output_type": "display_data"
    }
   ],
   "source": [
    "results_df.plot()"
   ],
   "metadata": {
    "collapsed": false,
    "pycharm": {
     "name": "#%%\n"
    }
   }
  },
  {
   "cell_type": "markdown",
   "source": [],
   "metadata": {
    "collapsed": false
   }
  },
  {
   "cell_type": "code",
   "execution_count": 63,
   "outputs": [],
   "source": [
    "def training_loss(loss, model, training_data):\n",
    "    '모델과 전체 학습 데이터를 이용한 학습 손실의 총합'\n",
    "    return sum(loss(model.predict(x.reshape(1,-1)),y)\n",
    "                                  for x, y in training_data)\n",
    "\n",
    "def squared_error(prediction, actual):\n",
    "    '개별 사례에 대한 오차 제곱'\n",
    "    return (prediction - actual)**2\n",
    "\n",
    "# 다음과 같이 사용합니다.\n",
    "# my_training_loss = training_loss(squared_error, model, training_data)"
   ],
   "metadata": {
    "collapsed": false,
    "pycharm": {
     "name": "#%%\n"
    }
   }
  },
  {
   "cell_type": "code",
   "execution_count": 64,
   "outputs": [
    {
     "name": "stdout",
     "output_type": "stream",
     "text": [
      "[863792.3333]\n"
     ]
    }
   ],
   "source": [
    "knn   = neighbors.KNeighborsRegressor(n_neighbors=3)\n",
    "fit   = knn.fit(diabetes.data, diabetes.target)\n",
    "\n",
    "training_data = zip(diabetes.data, diabetes.target)\n",
    "\n",
    "my_training_loss = training_loss(squared_error,\n",
    "                                 knn,\n",
    "                                 training_data)\n",
    "print(my_training_loss)"
   ],
   "metadata": {
    "collapsed": false,
    "pycharm": {
     "name": "#%%\n"
    }
   }
  },
  {
   "cell_type": "code",
   "execution_count": 65,
   "outputs": [
    {
     "name": "stdout",
     "output_type": "stream",
     "text": [
      "863792.3333333333\n"
     ]
    }
   ],
   "source": [
    "mse = metrics.mean_squared_error(diabetes.target,\n",
    "                                 knn.predict(diabetes.data))\n",
    "print(mse*len(diabetes.data))"
   ],
   "metadata": {
    "collapsed": false,
    "pycharm": {
     "name": "#%%\n"
    }
   }
  },
  {
   "cell_type": "code",
   "execution_count": 66,
   "outputs": [],
   "source": [
    "def complexity(model):\n",
    "    return model.complexity\n",
    "\n",
    "def cost(model, training_data, loss, _lambda):\n",
    "    return training_loss(m,D) + _lambda * complexity(m)"
   ],
   "metadata": {
    "collapsed": false,
    "pycharm": {
     "name": "#%%\n"
    }
   }
  },
  {
   "cell_type": "code",
   "execution_count": 67,
   "outputs": [
    {
     "data": {
      "text/plain": "array([-3206.7542, -3426.4313, -3587.9422, -3039.4944, -3282.6016])"
     },
     "execution_count": 67,
     "metadata": {},
     "output_type": "execute_result"
    }
   ],
   "source": [
    "# 데이터, 모델, 적합 & 교차 검증\n",
    "model = neighbors.KNeighborsRegressor(10)\n",
    "skms.cross_val_score(model,\n",
    "                     diabetes.data,\n",
    "                     diabetes.target,\n",
    "                     cv=5,\n",
    "                     scoring='neg_mean_squared_error')\n",
    "# 노트:\n",
    "# cross_val_score의 기본 설정은 다음과 같습니다.\n",
    "# cv=3 fold, 섞지 않음, 분류 모델인 경우 층화 추출 수행\n",
    "# model.score 기본 설정 (회귀 모델: r2, 분류 모델: accuracy)"
   ],
   "metadata": {
    "collapsed": false,
    "pycharm": {
     "name": "#%%\n"
    }
   }
  },
  {
   "cell_type": "code",
   "execution_count": 68,
   "outputs": [
    {
     "data": {
      "text/plain": "array([0.9667, 1.    , 1.    , 0.9333, 1.    ])"
     },
     "execution_count": 68,
     "metadata": {},
     "output_type": "execute_result"
    }
   ],
   "source": [
    "iris = datasets.load_iris()\n",
    "model = neighbors.KNeighborsClassifier(10)\n",
    "skms.cross_val_score(model, iris.data, iris.target, cv=5)"
   ],
   "metadata": {
    "collapsed": false,
    "pycharm": {
     "name": "#%%\n"
    }
   }
  },
  {
   "cell_type": "code",
   "execution_count": 69,
   "outputs": [
    {
     "name": "stdout",
     "output_type": "stream",
     "text": [
      "[['dog' 'dog' 'dog']\n",
      " ['cat' 'dog' 'cat']]\n"
     ]
    }
   ],
   "source": [
    "# 층화 추출을 사용하지 않습니다.\n",
    "pet = np.array(['cat', 'dog', 'cat',\n",
    "                'dog', 'dog', 'dog'])\n",
    "list_folds = list(skms.KFold(2).split(pet))\n",
    "training_idxs = np.array(list_folds)[:,0,:]\n",
    "\n",
    "print(pet[training_idxs])"
   ],
   "metadata": {
    "collapsed": false,
    "pycharm": {
     "name": "#%%\n"
    }
   }
  },
  {
   "cell_type": "code",
   "execution_count": 70,
   "outputs": [
    {
     "name": "stdout",
     "output_type": "stream",
     "text": [
      "[['cat' 'dog' 'dog']\n",
      " ['cat' 'dog' 'dog']]\n"
     ]
    }
   ],
   "source": [
    "# 층화 추출을 사용합니다.\n",
    "# 노트: 보통 작동 방식이 표면적으로 드러나지 않습니다.\n",
    "# StratifiedKFold로 사람이 읽을 수 있는 결과를 출력하게 하려면\n",
    "# 약간의 트릭이 필요합니다.\n",
    "pet = np.array(['cat', 'dog', 'cat',\n",
    "                'dog', 'dog', 'dog'])\n",
    "idxs = np.array(list(skms.StratifiedKFold(2).split(np.ones_like(pet), pet)))\n",
    "training_idxs = idxs[:,0,:]\n",
    "print(pet[training_idxs])"
   ],
   "metadata": {
    "collapsed": false,
    "pycharm": {
     "name": "#%%\n"
    }
   }
  },
  {
   "cell_type": "code",
   "execution_count": 71,
   "outputs": [
    {
     "data": {
      "text/plain": "array([1.    , 1.    , 0.8667, 0.9667, 0.7667])"
     },
     "execution_count": 71,
     "metadata": {},
     "output_type": "execute_result"
    }
   ],
   "source": [
    "# 비층화 추출 CV를 실행합니다.\n",
    "iris = datasets.load_iris()\n",
    "model = neighbors.KNeighborsClassifier(10)\n",
    "non_start_kf = skms.KFold(5)\n",
    "skms.cross_val_score(model,\n",
    "                     iris.data,\n",
    "                     iris.target,\n",
    "                     cv=non_start_kf)"
   ],
   "metadata": {
    "collapsed": false,
    "pycharm": {
     "name": "#%%\n"
    }
   }
  },
  {
   "cell_type": "code",
   "execution_count": 72,
   "outputs": [
    {
     "data": {
      "text/plain": "Repeat                    0                    1                    2  \\\nRMSE                51.9772              52.2819              52.4415   \n\nRepeat                    3                    4                    5  \\\nRMSE                52.6487              53.1630              53.3964   \n\nRepeat                    6                    7                    8  \\\nRMSE                55.6297              58.5442              59.2922   \n\nRepeat                    9  \nRMSE                62.3958  ",
      "text/html": "<div>\n<style scoped>\n    .dataframe tbody tr th:only-of-type {\n        vertical-align: middle;\n    }\n\n    .dataframe tbody tr th {\n        vertical-align: top;\n    }\n\n    .dataframe thead th {\n        text-align: right;\n    }\n</style>\n<table border=\"1\" class=\"dataframe\">\n  <thead>\n    <tr style=\"text-align: right;\">\n      <th>Repeat</th>\n      <th>0</th>\n      <th>1</th>\n      <th>2</th>\n      <th>3</th>\n      <th>4</th>\n      <th>5</th>\n      <th>6</th>\n      <th>7</th>\n      <th>8</th>\n      <th>9</th>\n    </tr>\n  </thead>\n  <tbody>\n    <tr>\n      <th>RMSE</th>\n      <td>51.9772</td>\n      <td>52.2819</td>\n      <td>52.4415</td>\n      <td>52.6487</td>\n      <td>53.1630</td>\n      <td>53.3964</td>\n      <td>55.6297</td>\n      <td>58.5442</td>\n      <td>59.2922</td>\n      <td>62.3958</td>\n    </tr>\n  </tbody>\n</table>\n</div>",
      "text/latex": "{\\centering\n\\begin{tabular}{lrrrrrrrrrr}\n\\toprule\nRepeat &                    0 &                    1 &                    2 &                    3 &                    4 &                    5 &                    6 &                    7 &                    8 &                    9 \\\\\n\\midrule\nRMSE &              51.9772 &              52.2819 &              52.4415 &              52.6487 &              53.1630 &              53.3964 &              55.6297 &              58.5442 &              59.2922 &              62.3958 \\\\\n\\bottomrule\n\\end{tabular}\n\n\\medskip}"
     },
     "metadata": {},
     "output_type": "display_data"
    }
   ],
   "source": [
    "# from mlwpy import *로 인해서 가려진\n",
    "# 라이브러리 import 구문은 아래와 같습니다.\n",
    "# from sklearn import (datasets, neighbors,\n",
    "#                      model_selection as skms,\n",
    "#                      linear_model, metrics)\n",
    "# 자세한 내용은 부록 A를 참조하세요.\n",
    "\n",
    "linreg = linear_model.LinearRegression()\n",
    "diabetes = datasets.load_diabetes()\n",
    "\n",
    "scores = []\n",
    "for r in range(10):\n",
    "    tts = skms.train_test_split(diabetes.data,\n",
    "                                diabetes.target,\n",
    "                                test_size=.25)\n",
    "\n",
    "    (diabetes_train_ftr, diabetes_test_ftr,\n",
    "     diabetes_train_tgt, diabetes_test_tgt) = tts\n",
    "\n",
    "    fit = linreg.fit(diabetes_train_ftr, diabetes_train_tgt)\n",
    "    preds = fit.predict(diabetes_test_ftr)\n",
    "\n",
    "    score = metrics.mean_squared_error(diabetes_test_tgt, preds)\n",
    "    scores.append(score)\n",
    "\n",
    "scores = pd.Series(np.sqrt(sorted(scores)))\n",
    "df = pd.DataFrame({'RMSE':scores})\n",
    "df.index.name = 'Repeat'\n",
    "display(df.T)"
   ],
   "metadata": {
    "collapsed": false,
    "pycharm": {
     "name": "#%%\n"
    }
   }
  },
  {
   "cell_type": "code",
   "execution_count": 73,
   "outputs": [
    {
     "data": {
      "text/plain": "<Figure size 288x216 with 1 Axes>",
      "image/png": "[encoded data removed]"
     },
     "metadata": {
      "needs_background": "light"
     },
     "output_type": "display_data"
    }
   ],
   "source": [
    "ax = plt.figure(figsize=(4, 3)).gca()\n",
    "sns.swarmplot(y='RMSE', data=df, ax=ax)\n",
    "ax.set_xlabel('Over Repeated\\nTrain-Test Splits');"
   ],
   "metadata": {
    "collapsed": false,
    "pycharm": {
     "name": "#%%\n"
    }
   }
  },
  {
   "cell_type": "code",
   "execution_count": 74,
   "outputs": [
    {
     "data": {
      "text/plain": "                    count                 mean                  std  \\\nRMSE              10.0000              55.1771               3.6562   \n\n                      min                  25%                  50%  \\\nRMSE              51.9772              52.4933              53.2797   \n\n                      75%                  max  \nRMSE              57.8155              62.3958  ",
      "text/html": "<div>\n<style scoped>\n    .dataframe tbody tr th:only-of-type {\n        vertical-align: middle;\n    }\n\n    .dataframe tbody tr th {\n        vertical-align: top;\n    }\n\n    .dataframe thead th {\n        text-align: right;\n    }\n</style>\n<table border=\"1\" class=\"dataframe\">\n  <thead>\n    <tr style=\"text-align: right;\">\n      <th></th>\n      <th>count</th>\n      <th>mean</th>\n      <th>std</th>\n      <th>min</th>\n      <th>25%</th>\n      <th>50%</th>\n      <th>75%</th>\n      <th>max</th>\n    </tr>\n  </thead>\n  <tbody>\n    <tr>\n      <th>RMSE</th>\n      <td>10.0000</td>\n      <td>55.1771</td>\n      <td>3.6562</td>\n      <td>51.9772</td>\n      <td>52.4933</td>\n      <td>53.2797</td>\n      <td>57.8155</td>\n      <td>62.3958</td>\n    </tr>\n  </tbody>\n</table>\n</div>",
      "text/latex": "{\\centering\n\\begin{tabular}{lrrrrrrrr}\n\\toprule\n{} &                count &                 mean &                  std &                  min &                  25\\% &                  50\\% &                  75\\% &                  max \\\\\n\\midrule\nRMSE &              10.0000 &              55.1771 &               3.6562 &              51.9772 &              52.4933 &              53.2797 &              57.8155 &              62.3958 \\\\\n\\bottomrule\n\\end{tabular}\n\n\\medskip}"
     },
     "metadata": {},
     "output_type": "display_data"
    }
   ],
   "source": [
    "display(df.describe().T)"
   ],
   "metadata": {
    "collapsed": false,
    "pycharm": {
     "name": "#%%\n"
    }
   }
  },
  {
   "cell_type": "code",
   "execution_count": 75,
   "outputs": [
    {
     "name": "stdout",
     "output_type": "stream",
     "text": [
      "3064.8896296486073\n"
     ]
    }
   ],
   "source": [
    "def tts_fit_score(model, data, msr, test_size=.25):\n",
    "    'data를 훈련-테스트로 분리하고 model를 적합한 다음 msr로 평가합니다.'\n",
    "    tts = skms.train_test_split(data.data,\n",
    "                                data.target,\n",
    "                                test_size=test_size)\n",
    "\n",
    "    (train_ftrs, test_ftrs, train_tgt,  test_tgt) = tts\n",
    "\n",
    "    fit   = linreg.fit(train_ftrs, train_tgt)\n",
    "    preds = fit.predict(test_ftrs)\n",
    "\n",
    "    score = msr(test_tgt, preds)\n",
    "    return score\n",
    "\n",
    "linreg   = linear_model.LinearRegression()\n",
    "diabetes = datasets.load_diabetes()\n",
    "scores = [tts_fit_score(linreg, diabetes,\n",
    "                       metrics.mean_squared_error) for i in range(10)]\n",
    "print(np.mean(scores))"
   ],
   "metadata": {
    "collapsed": false,
    "pycharm": {
     "name": "#%%\n"
    }
   }
  },
  {
   "cell_type": "code",
   "execution_count": 76,
   "outputs": [
    {
     "data": {
      "text/plain": "                    count                 mean                  std  \\\nRMSE              10.0000              54.5385               4.0468   \n\n                      min                  25%                  50%  \\\nRMSE              48.0892              52.2752              55.1316   \n\n                      75%                  max  \nRMSE              57.2340              60.9878  ",
      "text/html": "<div>\n<style scoped>\n    .dataframe tbody tr th:only-of-type {\n        vertical-align: middle;\n    }\n\n    .dataframe tbody tr th {\n        vertical-align: top;\n    }\n\n    .dataframe thead th {\n        text-align: right;\n    }\n</style>\n<table border=\"1\" class=\"dataframe\">\n  <thead>\n    <tr style=\"text-align: right;\">\n      <th></th>\n      <th>count</th>\n      <th>mean</th>\n      <th>std</th>\n      <th>min</th>\n      <th>25%</th>\n      <th>50%</th>\n      <th>75%</th>\n      <th>max</th>\n    </tr>\n  </thead>\n  <tbody>\n    <tr>\n      <th>RMSE</th>\n      <td>10.0000</td>\n      <td>54.5385</td>\n      <td>4.0468</td>\n      <td>48.0892</td>\n      <td>52.2752</td>\n      <td>55.1316</td>\n      <td>57.2340</td>\n      <td>60.9878</td>\n    </tr>\n  </tbody>\n</table>\n</div>",
      "text/latex": "{\\centering\n\\begin{tabular}{lrrrrrrrr}\n\\toprule\n{} &                count &                 mean &                  std &                  min &                  25\\% &                  50\\% &                  75\\% &                  max \\\\\n\\midrule\nRMSE &              10.0000 &              54.5385 &               4.0468 &              48.0892 &              52.2752 &              55.1316 &              57.2340 &              60.9878 \\\\\n\\bottomrule\n\\end{tabular}\n\n\\medskip}"
     },
     "metadata": {},
     "output_type": "display_data"
    },
    {
     "data": {
      "text/plain": "<Figure size 432x288 with 1 Axes>",
      "image/png": "[encoded data removed]"
     },
     "metadata": {
      "needs_background": "light"
     },
     "output_type": "display_data"
    }
   ],
   "source": [
    "linreg   = linear_model.LinearRegression()\n",
    "diabetes = datasets.load_diabetes()\n",
    "\n",
    "# non-default cv= argument\n",
    "ss = skms.ShuffleSplit(test_size=.25) # default, 10 splits\n",
    "scores = skms.cross_val_score(linreg,\n",
    "                              diabetes.data, diabetes.target,\n",
    "                              cv=ss,\n",
    "                              scoring='neg_mean_squared_error')\n",
    "\n",
    "scores = pd.Series(np.sqrt(-scores))\n",
    "df = pd.DataFrame({'RMSE':scores})\n",
    "df.index.name = 'Repeat'\n",
    "\n",
    "display(df.describe().T)\n",
    "\n",
    "ax = sns.swarmplot(y='RMSE', data=df)\n",
    "ax.set_xlabel('Over Repeated\\nTrain-Test Splits');"
   ],
   "metadata": {
    "collapsed": false,
    "pycharm": {
     "name": "#%%\n"
    }
   }
  },
  {
   "cell_type": "code",
   "execution_count": 77,
   "outputs": [
    {
     "data": {
      "text/plain": "array([ 16, 408, 432, 316,   3,  18, 355,  60, 398, 124])"
     },
     "execution_count": 77,
     "metadata": {},
     "output_type": "execute_result"
    }
   ],
   "source": [
    "ss = skms.ShuffleSplit(test_size=.25, random_state=42)\n",
    "\n",
    "train, test = 0, 1\n",
    "next(ss.split(diabetes.data))[train][:10]"
   ],
   "metadata": {
    "collapsed": false,
    "pycharm": {
     "name": "#%%\n"
    }
   }
  },
  {
   "cell_type": "code",
   "execution_count": 78,
   "outputs": [
    {
     "data": {
      "text/plain": "array([ 16, 408, 432, 316,   3,  18, 355,  60, 398, 124])"
     },
     "execution_count": 78,
     "metadata": {},
     "output_type": "execute_result"
    }
   ],
   "source": [
    "ss = skms.ShuffleSplit(test_size=.25, random_state=42)\n",
    "\n",
    "train, test = 0, 1\n",
    "next(ss.split(diabetes.data))[train][:10]"
   ],
   "metadata": {
    "collapsed": false,
    "pycharm": {
     "name": "#%%\n"
    }
   }
  },
  {
   "cell_type": "code",
   "execution_count": 79,
   "outputs": [
    {
     "data": {
      "text/plain": "array([89, 90, 91, 92, 93, 94, 95, 96, 97, 98])"
     },
     "execution_count": 79,
     "metadata": {},
     "output_type": "execute_result"
    }
   ],
   "source": [
    "train, test = 0, 1\n",
    "kf = skms.KFold(5)\n",
    "next(kf.split(diabetes.data))[train][:10]"
   ],
   "metadata": {
    "collapsed": false,
    "pycharm": {
     "name": "#%%\n"
    }
   }
  },
  {
   "cell_type": "code",
   "execution_count": 80,
   "outputs": [
    {
     "data": {
      "text/plain": "array([89, 90, 91, 92, 93, 94, 95, 96, 97, 98])"
     },
     "execution_count": 80,
     "metadata": {},
     "output_type": "execute_result"
    }
   ],
   "source": [
    "train, test = 0, 1\n",
    "kf = skms.KFold(5)\n",
    "next(kf.split(diabetes.data))[train][:10]"
   ],
   "metadata": {
    "collapsed": false,
    "pycharm": {
     "name": "#%%\n"
    }
   }
  },
  {
   "cell_type": "code",
   "execution_count": 81,
   "outputs": [
    {
     "name": "stdout",
     "output_type": "stream",
     "text": [
      "[0 3 4 5] [1 2 3 4]\n"
     ]
    }
   ],
   "source": [
    "pet = np.array(['cat', 'dog', 'cat',\n",
    "                'dog', 'dog', 'dog'])\n",
    "kf = skms.KFold(3, shuffle=True)\n",
    "\n",
    "train, test = 0, 1\n",
    "split_1_group_1 = next(kf.split(pet))[train]\n",
    "split_2_group_1 = next(kf.split(pet))[train]\n",
    "print(split_1_group_1,\n",
    "      split_2_group_1)"
   ],
   "metadata": {
    "collapsed": false,
    "pycharm": {
     "name": "#%%\n"
    }
   }
  },
  {
   "cell_type": "code",
   "execution_count": 82,
   "outputs": [
    {
     "name": "stdout",
     "output_type": "stream",
     "text": [
      "[2 3 4 5] [2 3 4 5]\n"
     ]
    }
   ],
   "source": [
    "kf = skms.KFold(3, shuffle=True, random_state=42)\n",
    "\n",
    "split_1_group_1 = next(kf.split(pet))[train]\n",
    "split_2_group_1 = next(kf.split(pet))[train]\n",
    "print(split_1_group_1,\n",
    "      split_2_group_1)"
   ],
   "metadata": {
    "collapsed": false,
    "pycharm": {
     "name": "#%%\n"
    }
   }
  },
  {
   "cell_type": "code",
   "execution_count": 83,
   "outputs": [
    {
     "data": {
      "text/plain": "                    count                 mean                  std  \\\nRMSE             442.0000              44.3557              32.1973   \n\n                      min                  25%                  50%  \\\nRMSE               0.2075              18.4820              39.5472   \n\n                      75%                  max  \nRMSE              63.9738             158.2355  ",
      "text/html": "<div>\n<style scoped>\n    .dataframe tbody tr th:only-of-type {\n        vertical-align: middle;\n    }\n\n    .dataframe tbody tr th {\n        vertical-align: top;\n    }\n\n    .dataframe thead th {\n        text-align: right;\n    }\n</style>\n<table border=\"1\" class=\"dataframe\">\n  <thead>\n    <tr style=\"text-align: right;\">\n      <th></th>\n      <th>count</th>\n      <th>mean</th>\n      <th>std</th>\n      <th>min</th>\n      <th>25%</th>\n      <th>50%</th>\n      <th>75%</th>\n      <th>max</th>\n    </tr>\n  </thead>\n  <tbody>\n    <tr>\n      <th>RMSE</th>\n      <td>442.0000</td>\n      <td>44.3557</td>\n      <td>32.1973</td>\n      <td>0.2075</td>\n      <td>18.4820</td>\n      <td>39.5472</td>\n      <td>63.9738</td>\n      <td>158.2355</td>\n    </tr>\n  </tbody>\n</table>\n</div>",
      "text/latex": "{\\centering\n\\begin{tabular}{lrrrrrrrr}\n\\toprule\n{} &                count &                 mean &                  std &                  min &                  25\\% &                  50\\% &                  75\\% &                  max \\\\\n\\midrule\nRMSE &             442.0000 &              44.3557 &              32.1973 &               0.2075 &              18.4820 &              39.5472 &              63.9738 &             158.2355 \\\\\n\\bottomrule\n\\end{tabular}\n\n\\medskip}"
     },
     "metadata": {},
     "output_type": "display_data"
    },
    {
     "data": {
      "text/plain": "Text(0.5, 0, 'Over Loo\\nTrain-Test Splits')"
     },
     "execution_count": 83,
     "metadata": {},
     "output_type": "execute_result"
    },
    {
     "data": {
      "text/plain": "<Figure size 432x288 with 1 Axes>",
      "image/png": "[encoded data removed]"
     },
     "metadata": {
      "needs_background": "light"
     },
     "output_type": "display_data"
    }
   ],
   "source": [
    "linreg = linear_model.LinearRegression()\n",
    "diabetes = datasets.load_diabetes()\n",
    "\n",
    "loo = skms.LeaveOneOut()\n",
    "scores = skms.cross_val_score(linreg,\n",
    "                              diabetes.data, diabetes.target,\n",
    "                              cv =loo,\n",
    "                              scoring='neg_mean_squared_error')\n",
    "\n",
    "scores = pd.Series(np.sqrt(-scores))\n",
    "df = pd.DataFrame({\"RMSE\" : scores})\n",
    "df.index.name = 'Repeat'\n",
    "\n",
    "display(df.describe().T)\n",
    "\n",
    "ax = sns.swarmplot(y='RMSE', data=df)\n",
    "ax.set_xlabel('Over Loo\\nTrain-Test Splits')"
   ],
   "metadata": {
    "collapsed": false,
    "pycharm": {
     "name": "#%%\n"
    }
   }
  },
  {
   "cell_type": "code",
   "execution_count": 87,
   "outputs": [
    {
     "name": "stderr",
     "output_type": "stream",
     "text": [
      "C:\\Users\\User\\anaconda3\\envs\\book_base\\lib\\site-packages\\ipykernel_launcher.py:16: DeprecationWarning: `np.int` is a deprecated alias for the builtin `int`. To silence this warning, use `int` by itself. Doing this will not modify any behavior and is safe. When replacing `np.int`, you may wish to use e.g. `np.int64` or `np.int32` to specify the precision. If you wish to review your current use, check the release note link for additional information.\n",
      "Deprecated in NumPy 1.20; for more details and guidance: https://numpy.org/devdocs/release/1.20.0-notes.html#deprecations\n",
      "  app.launch_new_instance()\n"
     ]
    },
    {
     "data": {
      "text/plain": "                               0                    1                    2  \\\n% Data Used                                                                  \n10                        0.3333               0.3333               0.3333   \n20                        0.3333               0.3333               0.3333   \n30                        0.3333               0.3333               0.3333   \n40                        0.6667               0.6667               0.6667   \n50                        0.6667               0.6667               0.6667   \n60                        0.6667               0.6667               0.6667   \n70                        0.9333               0.8000               0.8333   \n80                        0.9667               0.9333               0.9000   \n90                        0.9667               1.0000               0.9000   \n100                       0.9667               1.0000               0.9333   \n\n                               3                    4            Mean 5-CV  \n% Data Used                                                                 \n10                        0.3333               0.3333               0.3333  \n20                        0.3333               0.3333               0.3333  \n30                        0.3333               0.3333               0.3333  \n40                        0.6667               0.6667               0.6667  \n50                        0.6667               0.6667               0.6667  \n60                        0.6667               0.6667               0.6667  \n70                        0.8667               0.8000               0.8467  \n80                        0.9000               0.9667               0.9333  \n90                        0.9667               1.0000               0.9667  \n100                       0.9667               1.0000               0.9733  ",
      "text/html": "<div>\n<style scoped>\n    .dataframe tbody tr th:only-of-type {\n        vertical-align: middle;\n    }\n\n    .dataframe tbody tr th {\n        vertical-align: top;\n    }\n\n    .dataframe thead th {\n        text-align: right;\n    }\n</style>\n<table border=\"1\" class=\"dataframe\">\n  <thead>\n    <tr style=\"text-align: right;\">\n      <th></th>\n      <th>0</th>\n      <th>1</th>\n      <th>2</th>\n      <th>3</th>\n      <th>4</th>\n      <th>Mean 5-CV</th>\n    </tr>\n    <tr>\n      <th>% Data Used</th>\n      <th></th>\n      <th></th>\n      <th></th>\n      <th></th>\n      <th></th>\n      <th></th>\n    </tr>\n  </thead>\n  <tbody>\n    <tr>\n      <th>10</th>\n      <td>0.3333</td>\n      <td>0.3333</td>\n      <td>0.3333</td>\n      <td>0.3333</td>\n      <td>0.3333</td>\n      <td>0.3333</td>\n    </tr>\n    <tr>\n      <th>20</th>\n      <td>0.3333</td>\n      <td>0.3333</td>\n      <td>0.3333</td>\n      <td>0.3333</td>\n      <td>0.3333</td>\n      <td>0.3333</td>\n    </tr>\n    <tr>\n      <th>30</th>\n      <td>0.3333</td>\n      <td>0.3333</td>\n      <td>0.3333</td>\n      <td>0.3333</td>\n      <td>0.3333</td>\n      <td>0.3333</td>\n    </tr>\n    <tr>\n      <th>40</th>\n      <td>0.6667</td>\n      <td>0.6667</td>\n      <td>0.6667</td>\n      <td>0.6667</td>\n      <td>0.6667</td>\n      <td>0.6667</td>\n    </tr>\n    <tr>\n      <th>50</th>\n      <td>0.6667</td>\n      <td>0.6667</td>\n      <td>0.6667</td>\n      <td>0.6667</td>\n      <td>0.6667</td>\n      <td>0.6667</td>\n    </tr>\n    <tr>\n      <th>60</th>\n      <td>0.6667</td>\n      <td>0.6667</td>\n      <td>0.6667</td>\n      <td>0.6667</td>\n      <td>0.6667</td>\n      <td>0.6667</td>\n    </tr>\n    <tr>\n      <th>70</th>\n      <td>0.9333</td>\n      <td>0.8000</td>\n      <td>0.8333</td>\n      <td>0.8667</td>\n      <td>0.8000</td>\n      <td>0.8467</td>\n    </tr>\n    <tr>\n      <th>80</th>\n      <td>0.9667</td>\n      <td>0.9333</td>\n      <td>0.9000</td>\n      <td>0.9000</td>\n      <td>0.9667</td>\n      <td>0.9333</td>\n    </tr>\n    <tr>\n      <th>90</th>\n      <td>0.9667</td>\n      <td>1.0000</td>\n      <td>0.9000</td>\n      <td>0.9667</td>\n      <td>1.0000</td>\n      <td>0.9667</td>\n    </tr>\n    <tr>\n      <th>100</th>\n      <td>0.9667</td>\n      <td>1.0000</td>\n      <td>0.9333</td>\n      <td>0.9667</td>\n      <td>1.0000</td>\n      <td>0.9733</td>\n    </tr>\n  </tbody>\n</table>\n</div>",
      "text/latex": "{\\centering\n\\begin{tabular}{lrrrrrr}\n\\toprule\n{} &                    0 &                    1 &                    2 &                    3 &                    4 &            Mean 5-CV \\\\\n\\% Data Used &                      &                      &                      &                      &                      &                      \\\\\n\\midrule\n10          &               0.3333 &               0.3333 &               0.3333 &               0.3333 &               0.3333 &               0.3333 \\\\\n20          &               0.3333 &               0.3333 &               0.3333 &               0.3333 &               0.3333 &               0.3333 \\\\\n30          &               0.3333 &               0.3333 &               0.3333 &               0.3333 &               0.3333 &               0.3333 \\\\\n40          &               0.6667 &               0.6667 &               0.6667 &               0.6667 &               0.6667 &               0.6667 \\\\\n50          &               0.6667 &               0.6667 &               0.6667 &               0.6667 &               0.6667 &               0.6667 \\\\\n60          &               0.6667 &               0.6667 &               0.6667 &               0.6667 &               0.6667 &               0.6667 \\\\\n70          &               0.9333 &               0.8000 &               0.8333 &               0.8667 &               0.8000 &               0.8467 \\\\\n80          &               0.9667 &               0.9333 &               0.9000 &               0.9000 &               0.9667 &               0.9333 \\\\\n90          &               0.9667 &               1.0000 &               0.9000 &               0.9667 &               1.0000 &               0.9667 \\\\\n100         &               0.9667 &               1.0000 &               0.9333 &               0.9667 &               1.0000 &               0.9733 \\\\\n\\bottomrule\n\\end{tabular}\n\n\\medskip}"
     },
     "metadata": {},
     "output_type": "display_data"
    }
   ],
   "source": [
    "iris = datasets.load_iris()\n",
    "\n",
    "# 10가지 데이터 세트 크기: 10% ~ 100%\n",
    "# 5폴드 CV로 데이터를 처리\n",
    "train_sizes = np.linspace(.1,1.0,10)\n",
    "nn = neighbors.KNeighborsClassifier()\n",
    "\n",
    "(train_N,\n",
    " train_scores,\n",
    " test_scores) = skms.learning_curve(nn,\n",
    "                                    iris.data, iris.target,\n",
    "                                    cv=5,\n",
    "                                    train_sizes=train_sizes)\n",
    "\n",
    "# 각 데이터 세트 사이즈별로 5개 CV 점수를 산출\n",
    "df = pd.DataFrame(test_scores, index=(train_sizes*100).astype(np.int))\n",
    "df['Mean 5-CV'] = df.mean(axis='columns')\n",
    "df.index.name = \"% Data Used\"\n",
    "\n",
    "display(df)"
   ],
   "metadata": {
    "collapsed": false,
    "pycharm": {
     "name": "#%%\n"
    }
   }
  },
  {
   "cell_type": "code",
   "execution_count": 88,
   "outputs": [
    {
     "name": "stderr",
     "output_type": "stream",
     "text": [
      "C:\\Users\\User\\anaconda3\\envs\\book_base\\lib\\site-packages\\ipykernel_launcher.py:1: DeprecationWarning: `np.int` is a deprecated alias for the builtin `int`. To silence this warning, use `int` by itself. Doing this will not modify any behavior and is safe. When replacing `np.int`, you may wish to use e.g. `np.int64` or `np.int32` to specify the precision. If you wish to review your current use, check the release note link for additional information.\n",
      "Deprecated in NumPy 1.20; for more details and guidance: https://numpy.org/devdocs/release/1.20.0-notes.html#deprecations\n",
      "  \"\"\"Entry point for launching an IPython kernel.\n"
     ]
    }
   ],
   "source": [
    "neat_sizes = (train_sizes*100).astype(np.int)\n",
    "labels = np_cartesian_product(neat_sizes, [0,1], np.arange(5))\n",
    "score = np.concatenate([train_scores.flatten(),\n",
    "                        test_scores.flatten()], axis=0)\n",
    "assert len(score) == len(labels)\n",
    "\n",
    "df = pd.DataFrame.from_records(labels)\n",
    "df.columns = ['pct', 'set', 'fold']\n",
    "df.set = df.set.replace({0:'Train', 1:'Test'})\n",
    "df['score'] = score"
   ],
   "metadata": {
    "collapsed": false,
    "pycharm": {
     "name": "#%%\n"
    }
   }
  },
  {
   "cell_type": "code",
   "execution_count": 89,
   "outputs": [
    {
     "data": {
      "text/plain": "<Figure size 432x288 with 1 Axes>",
      "image/png": "[encoded data removed]"
     },
     "metadata": {
      "needs_background": "light"
     },
     "output_type": "display_data"
    }
   ],
   "source": [
    "ax = sns.lineplot(x='pct', y='score', hue='set', data=df)\n",
    "\n",
    "ax.set_title(\"Learning Curve for 5-NN Classifier\")\n",
    "ax.set_xlabel(\"Percent of Data used for Training\")\n",
    "ax.set_ylabel(\"Accuracy\");"
   ],
   "metadata": {
    "collapsed": false,
    "pycharm": {
     "name": "#%%\n"
    }
   }
  },
  {
   "cell_type": "code",
   "execution_count": 91,
   "outputs": [],
   "source": [
    "num_neigh = [1,3,5,10,15,20]\n",
    "KNC = neighbors.KNeighborsClassifier\n",
    "tt = skms.validation_curve(KNC(),\n",
    "                           iris.data, iris.target,\n",
    "                           param_name='n_neighbors',\n",
    "                           param_range=num_neigh,\n",
    "                           cv=5)"
   ],
   "metadata": {
    "collapsed": false,
    "pycharm": {
     "name": "#%%\n"
    }
   }
  },
  {
   "cell_type": "code",
   "execution_count": 92,
   "outputs": [
    {
     "data": {
      "text/plain": "<Figure size 432x288 with 1 Axes>",
      "image/png": "[encoded data removed]"
     },
     "metadata": {
      "needs_background": "light"
     },
     "output_type": "display_data"
    }
   ],
   "source": [
    "tidy_df = sk_graph_to_tidy(tt, num_neigh, 'k', 5)\n",
    "ax = sns.lineplot(x='k', y='score', hue='set', data=tidy_df)\n",
    "\n",
    "ax.set_title('5-fold CV Performance for k-NN')\n",
    "ax.set_xlabel(\"\\n\".join(['k for k-NN',\n",
    "                         'lower k, more complex',\n",
    "                         'higher k, less complex']))\n",
    "ax.set_ylim(.9, 1.01)\n",
    "ax.set_ylabel('Accuracy');"
   ],
   "metadata": {
    "collapsed": false,
    "pycharm": {
     "name": "#%%\n"
    }
   }
  },
  {
   "cell_type": "code",
   "execution_count": 93,
   "outputs": [
    {
     "data": {
      "text/plain": "<Figure size 432x288 with 1 Axes>",
      "image/png": "[encoded data removed]"
     },
     "metadata": {
      "needs_background": "light"
     },
     "output_type": "display_data"
    }
   ],
   "source": [
    "classifiers = {'gnb' : naive_bayes.GaussianNB(),\n",
    "               '5-NN' : neighbors.KNeighborsClassifier(n_neighbors=5)}\n",
    "\n",
    "iris = datasets.load_iris()\n",
    "\n",
    "fig, ax = plt.subplots(figsize=(6,4))\n",
    "for name, model in classifiers.items():\n",
    "    cv_scores = skms.cross_val_score(model,\n",
    "                                     iris.data, iris.target,\n",
    "                                     cv=10,\n",
    "                                     scoring='accuracy',\n",
    "                                     n_jobs=-1) # 코어를 모두 사용합니다.\n",
    "    my_lbl = \"{} {:.3f}\".format(name, cv_scores.mean())\n",
    "    ax.plot(cv_scores, '-o', label=my_lbl)\n",
    "ax.set_ylim(0.0, 1.1)\n",
    "ax.set_xlabel('Fold')\n",
    "ax.set_ylabel('Accuracy')\n",
    "ax.legend(ncol=2);"
   ],
   "metadata": {
    "collapsed": false,
    "pycharm": {
     "name": "#%%\n"
    }
   }
  }
 ],
 "metadata": {
  "kernelspec": {
   "display_name": "Python 3",
   "language": "python",
   "name": "python3"
  },
  "language_info": {
   "codemirror_mode": {
    "name": "ipython",
    "version": 2
   },
   "file_extension": ".py",
   "mimetype": "text/x-python",
   "name": "python",
   "nbconvert_exporter": "python",
   "pygments_lexer": "ipython2",
   "version": "2.7.6"
  }
 },
 "nbformat": 4,
 "nbformat_minor": 0
}